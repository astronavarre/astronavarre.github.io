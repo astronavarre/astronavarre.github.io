{
 "cells": [
  {
   "cell_type": "markdown",
   "metadata": {},
   "source": [
    "# Leaflet cluster map of talk locations\n",
    "\n",
    "Assuming you are working in a Linux or Windows Subsystem for Linux environment, you may need to install some dependencies. Assuming a clean installation, the following will be needed:\n",
    "\n",
    "```bash\n",
    "sudo apt install jupyter\n",
    "sudo apt install python3-pip\n",
    "pip install python-frontmatter getorg --upgrade\n",
    "```\n",
    "\n",
    "After which you can run this from the `_talks/` directory, via:\n",
    "\n",
    "```bash\n",
    " jupyter nbconvert --to notebook --execute talkmap.ipynb --output talkmap_out.ipynb\n",
    "```\n",
    " \n",
    "The `_talks/` directory contains `.md` files of all your talks. This scrapes the location YAML field from each `.md` file, geolocates it with `geopy/Nominatim`, and uses the `getorg` library to output data, HTML, and Javascript for a standalone cluster map."
   ]
  },
  {
   "cell_type": "code",
   "execution_count": 1,
   "metadata": {
    "collapsed": false,
    "execution": {
     "iopub.execute_input": "2025-04-28T20:11:26.927375Z",
     "iopub.status.busy": "2025-04-28T20:11:26.926509Z",
     "iopub.status.idle": "2025-04-28T20:11:31.065415Z",
     "shell.execute_reply": "2025-04-28T20:11:31.063522Z"
    }
   },
   "outputs": [
    {
     "name": "stdout",
     "output_type": "stream",
     "text": [
      "Requirement already satisfied: python-frontmatter in /home/alex/miniconda3/lib/python3.9/site-packages (1.1.0)\r\n",
      "Requirement already satisfied: getorg in /home/alex/miniconda3/lib/python3.9/site-packages (0.3.1)\r\n",
      "Requirement already satisfied: PyYAML in /home/alex/miniconda3/lib/python3.9/site-packages (from python-frontmatter) (5.4.1)\r\n",
      "Requirement already satisfied: retrying in /home/alex/miniconda3/lib/python3.9/site-packages (from getorg) (1.3.4)\r\n",
      "Requirement already satisfied: geopy in /home/alex/miniconda3/lib/python3.9/site-packages (from getorg) (2.4.1)\r\n",
      "Requirement already satisfied: pygithub in /home/alex/miniconda3/lib/python3.9/site-packages (from getorg) (2.6.1)\r\n",
      "Requirement already satisfied: geographiclib<3,>=1.52 in /home/alex/miniconda3/lib/python3.9/site-packages (from geopy->getorg) (2.0)\r\n",
      "Requirement already satisfied: Deprecated in /home/alex/miniconda3/lib/python3.9/site-packages (from pygithub->getorg) (1.2.18)\r\n",
      "Requirement already satisfied: pynacl>=1.4.0 in /home/alex/miniconda3/lib/python3.9/site-packages (from pygithub->getorg) (1.5.0)\r\n",
      "Requirement already satisfied: pyjwt[crypto]>=2.4.0 in /home/alex/miniconda3/lib/python3.9/site-packages (from pygithub->getorg) (2.10.1)\r\n",
      "Requirement already satisfied: typing-extensions>=4.0.0 in /home/alex/miniconda3/lib/python3.9/site-packages (from pygithub->getorg) (4.13.2)\r\n",
      "Requirement already satisfied: requests>=2.14.0 in /home/alex/miniconda3/lib/python3.9/site-packages (from pygithub->getorg) (2.26.0)\r\n",
      "Requirement already satisfied: urllib3>=1.26.0 in /home/alex/miniconda3/lib/python3.9/site-packages (from pygithub->getorg) (1.26.6)\r\n",
      "Requirement already satisfied: cryptography>=3.4.0 in /home/alex/miniconda3/lib/python3.9/site-packages (from pyjwt[crypto]>=2.4.0->pygithub->getorg) (3.4.7)\r\n",
      "Requirement already satisfied: cffi>=1.12 in /home/alex/miniconda3/lib/python3.9/site-packages (from cryptography>=3.4.0->pyjwt[crypto]>=2.4.0->pygithub->getorg) (1.14.6)\r\n",
      "Requirement already satisfied: pycparser in /home/alex/miniconda3/lib/python3.9/site-packages (from cffi>=1.12->cryptography>=3.4.0->pyjwt[crypto]>=2.4.0->pygithub->getorg) (2.20)\r\n",
      "Requirement already satisfied: charset-normalizer~=2.0.0 in /home/alex/miniconda3/lib/python3.9/site-packages (from requests>=2.14.0->pygithub->getorg) (2.0.4)\r\n",
      "Requirement already satisfied: idna<4,>=2.5 in /home/alex/miniconda3/lib/python3.9/site-packages (from requests>=2.14.0->pygithub->getorg) (3.2)\r\n",
      "Requirement already satisfied: certifi>=2017.4.17 in /home/alex/miniconda3/lib/python3.9/site-packages (from requests>=2.14.0->pygithub->getorg) (2021.5.30)\r\n",
      "Requirement already satisfied: wrapt<2,>=1.10 in /home/alex/miniconda3/lib/python3.9/site-packages (from Deprecated->pygithub->getorg) (1.12.1)\r\n",
      "Requirement already satisfied: six>=1.7.0 in /home/alex/miniconda3/lib/python3.9/site-packages (from retrying->getorg) (1.16.0)\r\n",
      "IPywidgets and ipyleaflet support enabled.\n"
     ]
    }
   ],
   "source": [
    "# Start by installing the dependencies\n",
    "!pip install python-frontmatter getorg --upgrade\n",
    "import frontmatter\n",
    "import glob\n",
    "import getorg\n",
    "from geopy import Nominatim\n",
    "from geopy.exc import GeocoderTimedOut"
   ]
  },
  {
   "cell_type": "code",
   "execution_count": 2,
   "metadata": {
    "collapsed": false,
    "execution": {
     "iopub.execute_input": "2025-04-28T20:11:31.068424Z",
     "iopub.status.busy": "2025-04-28T20:11:31.067286Z",
     "iopub.status.idle": "2025-04-28T20:11:31.070799Z",
     "shell.execute_reply": "2025-04-28T20:11:31.070452Z"
    }
   },
   "outputs": [],
   "source": [
    "# Collect the Markdown files\n",
    "g = glob.glob(\"_talks/*.md\")"
   ]
  },
  {
   "cell_type": "code",
   "execution_count": 3,
   "metadata": {
    "collapsed": true,
    "execution": {
     "iopub.execute_input": "2025-04-28T20:11:31.073663Z",
     "iopub.status.busy": "2025-04-28T20:11:31.073329Z",
     "iopub.status.idle": "2025-04-28T20:11:31.082412Z",
     "shell.execute_reply": "2025-04-28T20:11:31.082688Z"
    }
   },
   "outputs": [],
   "source": [
    "# Set the default timeout, in seconds\n",
    "TIMEOUT = 5\n",
    "\n",
    "# Prepare to geolocate\n",
    "geocoder = Nominatim(user_agent=\"academicpages.github.io\")\n",
    "location_dict = {}\n",
    "location = \"\"\n",
    "permalink = \"\"\n",
    "title = \"\""
   ]
  },
  {
   "cell_type": "markdown",
   "metadata": {},
   "source": [
    "In the event that this times out with an error, double check to make sure that the location is can be properly geolocated."
   ]
  },
  {
   "cell_type": "code",
   "execution_count": 4,
   "metadata": {
    "collapsed": false,
    "execution": {
     "iopub.execute_input": "2025-04-28T20:11:31.087416Z",
     "iopub.status.busy": "2025-04-28T20:11:31.087070Z",
     "iopub.status.idle": "2025-04-28T20:11:36.772899Z",
     "shell.execute_reply": "2025-04-28T20:11:36.772570Z"
    }
   },
   "outputs": [
    {
     "name": "stdout",
     "output_type": "stream",
     "text": [
      "Characterizing Strongly Lensed Lyman-Alpha Emitting Galaxies at z > 4<br />Roman Science Inspired by Emerging JWST Results, Space Telescope Science Institute; Baltimore, MD, USA Baltimore, Maryland, United States\n",
      "Characterizing Strongly Lensed Lyman-Alpha Galaxies at z > 4<br />Escape of Lyman Radiation from Galactic Labyrinths, Orthodox Academy of Crete; Kolymbari, Crete, Greece Κολυμβάρι - Δελιανά, Επισκοπή, Βασιλόπουλο, Δήμος Πλατανιά, Περιφερειακή Ενότητα Χανίων, Περιφέρεια Κρήτης, Αποκεντρωμένη Διοίκηση Κρήτης, Ελλάς\n",
      "Characterizing Strongly Lensed Lyman-Alpha Emitting Galaxies at z > 4<br />American Astronomical Society 240th Meeting, Pasadena Convention Center; Pasadena, CA, USA Pasadena, Los Angeles County, California, United States\n",
      "Clumpy vs. Extended Lyman Alpha Emitters at High Redshift<br />University of Cincinnati, Geophysics Building; Cincinnati, OH, USA Cincinnati, Hamilton County, Ohio, United States\n",
      "Characterizing Strongly Lensed Lyman-Alpha Emitting Galaxies at z > 4<br />Gemini Science Meeting, Millenium Hilton Seoul; Seoul, South Korea 서울특별시, 대한민국\n"
     ]
    }
   ],
   "source": [
    "# Perform geolocation\n",
    "for file in g:\n",
    "    # Read the file\n",
    "    data = frontmatter.load(file)\n",
    "    data = data.to_dict()\n",
    "\n",
    "    # Press on if the location is not present\n",
    "    if 'location' not in data:\n",
    "        continue\n",
    "\n",
    "    # Prepare the description\n",
    "    title = data['title'].strip()\n",
    "    venue = data['venue'].strip()\n",
    "    location = data['location'].strip()\n",
    "    description = f\"{title}<br />{venue}; {location}\"\n",
    "\n",
    "    # Geocode the location and report the status\n",
    "    try:\n",
    "        location_dict[description] = geocoder.geocode(location, timeout=TIMEOUT)\n",
    "        print(description, location_dict[description])\n",
    "    except ValueError as ex:\n",
    "        print(f\"Error: geocode failed on input {location} with message {ex}\")\n",
    "    except GeocoderTimedOut as ex:\n",
    "        print(f\"Error: geocode timed out on input {location} with message {ex}\")\n",
    "    except Exception as ex:\n",
    "        print(f\"An unhandled exception occurred while processing input {location} with message {ex}\")"
   ]
  },
  {
   "cell_type": "code",
   "execution_count": 5,
   "metadata": {
    "collapsed": false,
    "execution": {
     "iopub.execute_input": "2025-04-28T20:11:36.783641Z",
     "iopub.status.busy": "2025-04-28T20:11:36.782992Z",
     "iopub.status.idle": "2025-04-28T20:11:36.806609Z",
     "shell.execute_reply": "2025-04-28T20:11:36.806038Z"
    }
   },
   "outputs": [
    {
     "data": {
      "text/plain": [
       "'Written map to talkmap/'"
      ]
     },
     "execution_count": 5,
     "metadata": {},
     "output_type": "execute_result"
    }
   ],
   "source": [
    "# Save the map\n",
    "m = getorg.orgmap.create_map_obj()\n",
    "getorg.orgmap.output_html_cluster_map(location_dict, folder_name=\"talkmap\", hashed_usernames=False)"
   ]
  },
  {
   "cell_type": "code",
   "execution_count": null,
   "metadata": {
    "collapsed": true
   },
   "outputs": [],
   "source": []
  }
 ],
 "metadata": {
  "anaconda-cloud": {},
  "kernelspec": {
   "display_name": "Python 3",
   "language": "python",
   "name": "python3"
  },
  "language_info": {
   "codemirror_mode": {
    "name": "ipython",
    "version": 3
   },
   "file_extension": ".py",
   "mimetype": "text/x-python",
   "name": "python",
   "nbconvert_exporter": "python",
   "pygments_lexer": "ipython3",
   "version": "3.9.6"
  },
  "widgets": {
   "application/vnd.jupyter.widget-state+json": {
    "state": {
     "07e37f82aa5a47ea9af9114f3b3713d3": {
      "model_module": "jupyter-leaflet",
      "model_module_version": "^0.19",
      "model_name": "LeafletAttributionControlModel",
      "state": {
       "_model_module": "jupyter-leaflet",
       "_model_module_version": "^0.19",
       "_model_name": "LeafletAttributionControlModel",
       "_view_count": null,
       "_view_module": "jupyter-leaflet",
       "_view_module_version": "^0.19",
       "_view_name": "LeafletAttributionControlView",
       "options": [
        "position",
        "prefix"
       ],
       "position": "bottomright",
       "prefix": "ipyleaflet"
      }
     },
     "28bb6fac6a3247ac9c8dd3e0571e9e6f": {
      "model_module": "jupyter-leaflet",
      "model_module_version": "^0.19",
      "model_name": "LeafletMapStyleModel",
      "state": {
       "_model_module": "jupyter-leaflet",
       "_model_module_version": "^0.19",
       "_model_name": "LeafletMapStyleModel",
       "_view_count": null,
       "_view_module": "@jupyter-widgets/base",
       "_view_module_version": "1.2.0",
       "_view_name": "StyleView",
       "cursor": "move"
      }
     },
     "32e66a9fb75241a8b5c322dc30ef041a": {
      "model_module": "jupyter-leaflet",
      "model_module_version": "^0.19",
      "model_name": "LeafletZoomControlModel",
      "state": {
       "_model_module": "jupyter-leaflet",
       "_model_module_version": "^0.19",
       "_model_name": "LeafletZoomControlModel",
       "_view_count": null,
       "_view_module": "jupyter-leaflet",
       "_view_module_version": "^0.19",
       "_view_name": "LeafletZoomControlView",
       "options": [
        "position",
        "zoom_in_text",
        "zoom_in_title",
        "zoom_out_text",
        "zoom_out_title"
       ],
       "position": "topleft",
       "zoom_in_text": "+",
       "zoom_in_title": "Zoom in",
       "zoom_out_text": "-",
       "zoom_out_title": "Zoom out"
      }
     },
     "3eb2beb1d618465cba9c3cc8200fd7c6": {
      "model_module": "jupyter-leaflet",
      "model_module_version": "^0.19",
      "model_name": "LeafletMapModel",
      "state": {
       "_dom_classes": [],
       "_model_module": "jupyter-leaflet",
       "_model_module_version": "^0.19",
       "_model_name": "LeafletMapModel",
       "_view_count": null,
       "_view_module": "jupyter-leaflet",
       "_view_module_version": "^0.19",
       "_view_name": "LeafletMapView",
       "bottom": 0.0,
       "bounce_at_zoom_limits": true,
       "box_zoom": true,
       "center": [
        0.0,
        0.0
       ],
       "close_popup_on_click": true,
       "controls": [
        "IPY_MODEL_778242e590bc41e6be3101a4b92c4066",
        "IPY_MODEL_07e37f82aa5a47ea9af9114f3b3713d3"
       ],
       "crs": {
        "custom": false,
        "name": "EPSG3857"
       },
       "default_style": "IPY_MODEL_6bc79e6c6fe34c2b9bba171ddb2347db",
       "double_click_zoom": true,
       "dragging": true,
       "dragging_style": "IPY_MODEL_8f7d234e6edb44aa89c90df8373a46f5",
       "east": 0.0,
       "fullscreen": false,
       "inertia": true,
       "inertia_deceleration": 3000,
       "inertia_max_speed": 1500,
       "interpolation": "bilinear",
       "keyboard": true,
       "keyboard_pan_offset": 80,
       "keyboard_zoom_offset": 1,
       "layers": [
        "IPY_MODEL_730ef9a34d2d4ee49702a0105cc49a19"
       ],
       "layout": "IPY_MODEL_8326a496e1794cbdb0e83dc20ddc7210",
       "left": 9007199254740991.0,
       "max_zoom": null,
       "min_zoom": null,
       "modisdate": "2025-04-27",
       "north": 0.0,
       "options": [
        "bounce_at_zoom_limits",
        "box_zoom",
        "center",
        "close_popup_on_click",
        "double_click_zoom",
        "dragging",
        "fullscreen",
        "inertia",
        "inertia_deceleration",
        "inertia_max_speed",
        "interpolation",
        "keyboard",
        "keyboard_pan_offset",
        "keyboard_zoom_offset",
        "max_zoom",
        "min_zoom",
        "prefer_canvas",
        "scroll_wheel_zoom",
        "tap",
        "tap_tolerance",
        "touch_zoom",
        "world_copy_jump",
        "zoom",
        "zoom_animation_threshold",
        "zoom_delta",
        "zoom_snap"
       ],
       "panes": {},
       "prefer_canvas": false,
       "right": 0.0,
       "scroll_wheel_zoom": false,
       "south": 0.0,
       "style": "IPY_MODEL_a8279fc952544a69a30d5a16459d10a5",
       "tap": true,
       "tap_tolerance": 15,
       "top": 9007199254740991.0,
       "touch_zoom": true,
       "west": 0.0,
       "window_url": "",
       "world_copy_jump": false,
       "zoom": 12.0,
       "zoom_animation_threshold": 4,
       "zoom_delta": 1.0,
       "zoom_snap": 1.0
      }
     },
     "4eb631fda4fd418daa854cecd1bfa8e9": {
      "model_module": "jupyter-leaflet",
      "model_module_version": "^0.19",
      "model_name": "LeafletTileLayerModel",
      "state": {
       "_model_module": "jupyter-leaflet",
       "_model_module_version": "^0.19",
       "_model_name": "LeafletTileLayerModel",
       "_view_count": null,
       "_view_module": "jupyter-leaflet",
       "_view_module_version": "^0.19",
       "_view_name": "LeafletTileLayerView",
       "attribution": null,
       "base": false,
       "bottom": true,
       "bounds": null,
       "detect_retina": false,
       "loading": false,
       "max_native_zoom": null,
       "max_zoom": 18,
       "min_native_zoom": null,
       "min_zoom": 0,
       "name": "",
       "no_wrap": false,
       "opacity": 1.0,
       "options": [
        "attribution",
        "bounds",
        "detect_retina",
        "max_native_zoom",
        "max_zoom",
        "min_native_zoom",
        "min_zoom",
        "no_wrap",
        "tile_size",
        "tms",
        "zoom_offset"
       ],
       "pane": "",
       "popup": null,
       "popup_max_height": null,
       "popup_max_width": 300,
       "popup_min_width": 50,
       "show_loading": false,
       "subitems": [],
       "tile_size": 256,
       "tms": false,
       "url": "https://{s}.tile.openstreetmap.org/{z}/{x}/{y}.png",
       "visible": true,
       "zoom_offset": 0
      }
     },
     "6bc79e6c6fe34c2b9bba171ddb2347db": {
      "model_module": "jupyter-leaflet",
      "model_module_version": "^0.19",
      "model_name": "LeafletMapStyleModel",
      "state": {
       "_model_module": "jupyter-leaflet",
       "_model_module_version": "^0.19",
       "_model_name": "LeafletMapStyleModel",
       "_view_count": null,
       "_view_module": "@jupyter-widgets/base",
       "_view_module_version": "1.2.0",
       "_view_name": "StyleView",
       "cursor": "grab"
      }
     },
     "730ef9a34d2d4ee49702a0105cc49a19": {
      "model_module": "jupyter-leaflet",
      "model_module_version": "^0.19",
      "model_name": "LeafletTileLayerModel",
      "state": {
       "_model_module": "jupyter-leaflet",
       "_model_module_version": "^0.19",
       "_model_name": "LeafletTileLayerModel",
       "_view_count": null,
       "_view_module": "jupyter-leaflet",
       "_view_module_version": "^0.19",
       "_view_name": "LeafletTileLayerView",
       "attribution": "&copy; <a href=\"https://www.openstreetmap.org/copyright\">OpenStreetMap</a> contributors",
       "base": true,
       "bottom": true,
       "bounds": null,
       "detect_retina": false,
       "loading": false,
       "max_native_zoom": null,
       "max_zoom": 19,
       "min_native_zoom": null,
       "min_zoom": 1,
       "name": "OpenStreetMap.Mapnik",
       "no_wrap": false,
       "opacity": 1.0,
       "options": [
        "attribution",
        "bounds",
        "detect_retina",
        "max_native_zoom",
        "max_zoom",
        "min_native_zoom",
        "min_zoom",
        "no_wrap",
        "tile_size",
        "tms",
        "zoom_offset"
       ],
       "pane": "",
       "popup": null,
       "popup_max_height": null,
       "popup_max_width": 300,
       "popup_min_width": 50,
       "show_loading": false,
       "subitems": [],
       "tile_size": 256,
       "tms": false,
       "url": "https://tile.openstreetmap.org/{z}/{x}/{y}.png",
       "visible": true,
       "zoom_offset": 0
      }
     },
     "778242e590bc41e6be3101a4b92c4066": {
      "model_module": "jupyter-leaflet",
      "model_module_version": "^0.19",
      "model_name": "LeafletZoomControlModel",
      "state": {
       "_model_module": "jupyter-leaflet",
       "_model_module_version": "^0.19",
       "_model_name": "LeafletZoomControlModel",
       "_view_count": null,
       "_view_module": "jupyter-leaflet",
       "_view_module_version": "^0.19",
       "_view_name": "LeafletZoomControlView",
       "options": [
        "position",
        "zoom_in_text",
        "zoom_in_title",
        "zoom_out_text",
        "zoom_out_title"
       ],
       "position": "topleft",
       "zoom_in_text": "+",
       "zoom_in_title": "Zoom in",
       "zoom_out_text": "-",
       "zoom_out_title": "Zoom out"
      }
     },
     "7bc5eaf767e947d28affaa92787029b1": {
      "model_module": "jupyter-leaflet",
      "model_module_version": "^0.19",
      "model_name": "LeafletTileLayerModel",
      "state": {
       "_model_module": "jupyter-leaflet",
       "_model_module_version": "^0.19",
       "_model_name": "LeafletTileLayerModel",
       "_view_count": null,
       "_view_module": "jupyter-leaflet",
       "_view_module_version": "^0.19",
       "_view_name": "LeafletTileLayerView",
       "attribution": "&copy; <a href=\"https://www.openstreetmap.org/copyright\">OpenStreetMap</a> contributors",
       "base": true,
       "bottom": true,
       "bounds": null,
       "detect_retina": false,
       "loading": false,
       "max_native_zoom": null,
       "max_zoom": 19,
       "min_native_zoom": null,
       "min_zoom": 1,
       "name": "OpenStreetMap.Mapnik",
       "no_wrap": false,
       "opacity": 1.0,
       "options": [
        "attribution",
        "bounds",
        "detect_retina",
        "max_native_zoom",
        "max_zoom",
        "min_native_zoom",
        "min_zoom",
        "no_wrap",
        "tile_size",
        "tms",
        "zoom_offset"
       ],
       "pane": "",
       "popup": null,
       "popup_max_height": null,
       "popup_max_width": 300,
       "popup_min_width": 50,
       "show_loading": false,
       "subitems": [],
       "tile_size": 256,
       "tms": false,
       "url": "https://tile.openstreetmap.org/{z}/{x}/{y}.png",
       "visible": true,
       "zoom_offset": 0
      }
     },
     "8326a496e1794cbdb0e83dc20ddc7210": {
      "model_module": "@jupyter-widgets/base",
      "model_module_version": "1.2.0",
      "model_name": "LayoutModel",
      "state": {
       "_model_module": "@jupyter-widgets/base",
       "_model_module_version": "1.2.0",
       "_model_name": "LayoutModel",
       "_view_count": null,
       "_view_module": "@jupyter-widgets/base",
       "_view_module_version": "1.2.0",
       "_view_name": "LayoutView",
       "align_content": null,
       "align_items": null,
       "align_self": null,
       "border": null,
       "bottom": null,
       "display": null,
       "flex": null,
       "flex_flow": null,
       "grid_area": null,
       "grid_auto_columns": null,
       "grid_auto_flow": null,
       "grid_auto_rows": null,
       "grid_column": null,
       "grid_gap": null,
       "grid_row": null,
       "grid_template_areas": null,
       "grid_template_columns": null,
       "grid_template_rows": null,
       "height": null,
       "justify_content": null,
       "justify_items": null,
       "left": null,
       "margin": null,
       "max_height": null,
       "max_width": null,
       "min_height": null,
       "min_width": null,
       "object_fit": null,
       "object_position": null,
       "order": null,
       "overflow": null,
       "overflow_x": null,
       "overflow_y": null,
       "padding": null,
       "right": null,
       "top": null,
       "visibility": null,
       "width": null
      }
     },
     "8f7d234e6edb44aa89c90df8373a46f5": {
      "model_module": "jupyter-leaflet",
      "model_module_version": "^0.19",
      "model_name": "LeafletMapStyleModel",
      "state": {
       "_model_module": "jupyter-leaflet",
       "_model_module_version": "^0.19",
       "_model_name": "LeafletMapStyleModel",
       "_view_count": null,
       "_view_module": "@jupyter-widgets/base",
       "_view_module_version": "1.2.0",
       "_view_name": "StyleView",
       "cursor": "move"
      }
     },
     "a8279fc952544a69a30d5a16459d10a5": {
      "model_module": "jupyter-leaflet",
      "model_module_version": "^0.19",
      "model_name": "LeafletMapStyleModel",
      "state": {
       "_model_module": "jupyter-leaflet",
       "_model_module_version": "^0.19",
       "_model_name": "LeafletMapStyleModel",
       "_view_count": null,
       "_view_module": "@jupyter-widgets/base",
       "_view_module_version": "1.2.0",
       "_view_name": "StyleView",
       "cursor": "grab"
      }
     },
     "bd0f51d5050b4516ad98b3ce3dce0fe7": {
      "model_module": "@jupyter-widgets/base",
      "model_module_version": "1.2.0",
      "model_name": "LayoutModel",
      "state": {
       "_model_module": "@jupyter-widgets/base",
       "_model_module_version": "1.2.0",
       "_model_name": "LayoutModel",
       "_view_count": null,
       "_view_module": "@jupyter-widgets/base",
       "_view_module_version": "1.2.0",
       "_view_name": "LayoutView",
       "align_content": null,
       "align_items": null,
       "align_self": null,
       "border": null,
       "bottom": null,
       "display": null,
       "flex": null,
       "flex_flow": null,
       "grid_area": null,
       "grid_auto_columns": null,
       "grid_auto_flow": null,
       "grid_auto_rows": null,
       "grid_column": null,
       "grid_gap": null,
       "grid_row": null,
       "grid_template_areas": null,
       "grid_template_columns": null,
       "grid_template_rows": null,
       "height": "600px",
       "justify_content": null,
       "justify_items": null,
       "left": null,
       "margin": null,
       "max_height": null,
       "max_width": null,
       "min_height": null,
       "min_width": null,
       "object_fit": null,
       "object_position": null,
       "order": null,
       "overflow": null,
       "overflow_x": null,
       "overflow_y": null,
       "padding": null,
       "right": null,
       "top": null,
       "visibility": null,
       "width": null
      }
     },
     "c58586fb477e4893986ae90261d96329": {
      "model_module": "jupyter-leaflet",
      "model_module_version": "^0.19",
      "model_name": "LeafletAttributionControlModel",
      "state": {
       "_model_module": "jupyter-leaflet",
       "_model_module_version": "^0.19",
       "_model_name": "LeafletAttributionControlModel",
       "_view_count": null,
       "_view_module": "jupyter-leaflet",
       "_view_module_version": "^0.19",
       "_view_name": "LeafletAttributionControlView",
       "options": [
        "position",
        "prefix"
       ],
       "position": "bottomright",
       "prefix": "ipyleaflet"
      }
     },
     "cc68e934470e48a2b46621b63bfde287": {
      "model_module": "jupyter-leaflet",
      "model_module_version": "^0.19",
      "model_name": "LeafletMapModel",
      "state": {
       "_dom_classes": [],
       "_model_module": "jupyter-leaflet",
       "_model_module_version": "^0.19",
       "_model_name": "LeafletMapModel",
       "_view_count": null,
       "_view_module": "jupyter-leaflet",
       "_view_module_version": "^0.19",
       "_view_name": "LeafletMapView",
       "bottom": 0.0,
       "bounce_at_zoom_limits": true,
       "box_zoom": true,
       "center": [
        30,
        5
       ],
       "close_popup_on_click": true,
       "controls": [
        "IPY_MODEL_32e66a9fb75241a8b5c322dc30ef041a",
        "IPY_MODEL_c58586fb477e4893986ae90261d96329"
       ],
       "crs": {
        "custom": false,
        "name": "EPSG3857"
       },
       "default_style": "IPY_MODEL_f2771398634048a5ad61085fc2de95bd",
       "double_click_zoom": true,
       "dragging": true,
       "dragging_style": "IPY_MODEL_28bb6fac6a3247ac9c8dd3e0571e9e6f",
       "east": 0.0,
       "fullscreen": false,
       "inertia": true,
       "inertia_deceleration": 3000,
       "inertia_max_speed": 1500,
       "interpolation": "bilinear",
       "keyboard": true,
       "keyboard_pan_offset": 80,
       "keyboard_zoom_offset": 1,
       "layers": [
        "IPY_MODEL_7bc5eaf767e947d28affaa92787029b1"
       ],
       "layout": "IPY_MODEL_bd0f51d5050b4516ad98b3ce3dce0fe7",
       "left": 9007199254740991.0,
       "max_zoom": null,
       "min_zoom": null,
       "modisdate": "2025-04-27",
       "north": 0.0,
       "options": [
        "bounce_at_zoom_limits",
        "box_zoom",
        "center",
        "close_popup_on_click",
        "double_click_zoom",
        "dragging",
        "fullscreen",
        "inertia",
        "inertia_deceleration",
        "inertia_max_speed",
        "interpolation",
        "keyboard",
        "keyboard_pan_offset",
        "keyboard_zoom_offset",
        "max_zoom",
        "min_zoom",
        "prefer_canvas",
        "scroll_wheel_zoom",
        "tap",
        "tap_tolerance",
        "touch_zoom",
        "world_copy_jump",
        "zoom",
        "zoom_animation_threshold",
        "zoom_delta",
        "zoom_snap"
       ],
       "panes": {},
       "prefer_canvas": false,
       "right": 0.0,
       "scroll_wheel_zoom": false,
       "south": 0.0,
       "style": "IPY_MODEL_ec1ef803e8a44f36b16210c6ba4f79db",
       "tap": true,
       "tap_tolerance": 15,
       "top": 9007199254740991.0,
       "touch_zoom": true,
       "west": 0.0,
       "window_url": "",
       "world_copy_jump": false,
       "zoom": 2.0,
       "zoom_animation_threshold": 4,
       "zoom_delta": 1.0,
       "zoom_snap": 1.0
      }
     },
     "ec1ef803e8a44f36b16210c6ba4f79db": {
      "model_module": "jupyter-leaflet",
      "model_module_version": "^0.19",
      "model_name": "LeafletMapStyleModel",
      "state": {
       "_model_module": "jupyter-leaflet",
       "_model_module_version": "^0.19",
       "_model_name": "LeafletMapStyleModel",
       "_view_count": null,
       "_view_module": "@jupyter-widgets/base",
       "_view_module_version": "1.2.0",
       "_view_name": "StyleView",
       "cursor": "grab"
      }
     },
     "f2771398634048a5ad61085fc2de95bd": {
      "model_module": "jupyter-leaflet",
      "model_module_version": "^0.19",
      "model_name": "LeafletMapStyleModel",
      "state": {
       "_model_module": "jupyter-leaflet",
       "_model_module_version": "^0.19",
       "_model_name": "LeafletMapStyleModel",
       "_view_count": null,
       "_view_module": "@jupyter-widgets/base",
       "_view_module_version": "1.2.0",
       "_view_name": "StyleView",
       "cursor": "grab"
      }
     }
    },
    "version_major": 2,
    "version_minor": 0
   }
  }
 },
 "nbformat": 4,
 "nbformat_minor": 0
}
